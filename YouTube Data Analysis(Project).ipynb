{
 "cells": [
  {
   "cell_type": "markdown",
   "metadata": {},
   "source": [
    "<div style=\"border-radius:10px; border:black 5px solid ; padding:20px;color:black;margin:0;font-size:30px;font-family:Roboto;text-align:center;display:fill;border-radius:5px;background: linear-gradient(to right, red, white);overflow:hidden;box-shadow:5px 5px 5px gray;\"><b> Project on Top Trending YouTube videos  </b></div>"
   ]
  },
  {
   "cell_type": "markdown",
   "metadata": {},
   "source": [
    "![Image of like unlike](https://images.firstpost.com/wp-content/uploads/2017/08/New-YouTube-Logo-GIF.gif?im=FitAndFill=(596,314))\n"
   ]
  },
  {
   "cell_type": "markdown",
   "metadata": {},
   "source": [
    "<div style=\"border-radius:10px; border:black 5px solid ; padding:20px;color:black;margin:0;font-size:30px;font-family:Roboto;text-align:center;display:fill;border-radius:5px;background: linear-gradient(to right, red, white);overflow:hidden;box-shadow:5px 5px 5px gray;\"><b> Project Description </b></div>"
   ]
  },
  {
   "cell_type": "markdown",
   "metadata": {},
   "source": [
    "### This dataset is the daily record from the top trending YouTube videos. Top 200 trending videos of a given day. Original Data was collected during 14th November 2017 & 5th March 2018(though, data for January 10th & 11th of 2017 is missing). Original dataset was collected by Youtube API)"
   ]
  },
  {
   "cell_type": "markdown",
   "metadata": {},
   "source": [
    "# <div style=\"border-radius:10px; border:black 5px solid ; padding:20px;color:black;margin:0;font-size:30px;font-family:Roboto;text-align:center;display:fill;border-radius:5px;background: linear-gradient(to right, red,white);\"><b>Libraries Used</b></div>"
   ]
  },
  {
   "cell_type": "code",
   "execution_count": 1,
   "metadata": {},
   "outputs": [],
   "source": [
    "#importing libraries\n",
    "import pandas as pd  \n",
    "import numpy as np\n",
    "import matplotlib.pyplot as plt \n",
    "import seaborn as sns\n",
    "\n",
    "# to suppress warnings \n",
    "from warnings import filterwarnings\n",
    "filterwarnings('ignore')\n",
    "\n",
    "# display all columns of the dataframe\n",
    "pd.options.display.max_columns = None\n",
    "\n",
    "# display all rows of the dataframe\n",
    "pd.options.display.max_rows = None\n",
    " \n",
    "# to display the float values upto 6 decimal places     \n",
    "pd.options.display.float_format = '{:.6f}'.format\n",
    "\n",
    "# import train-test split \n",
    "from sklearn.model_selection import train_test_split\n",
    "\n",
    "# import various functions from statsmodel to perform linear regression\n",
    "import statsmodels\n",
    "import statsmodels.api as sm\n",
    "import statsmodels.stats.api as sms\n",
    "from statsmodels.tools.eval_measures import rmse\n",
    "from statsmodels.compat import lzip\n",
    "from statsmodels.stats.outliers_influence import variance_inflation_factor\n",
    "import statsmodels.tsa.api as smt\n",
    "from statsmodels.graphics.gofplots import qqplot\n",
    "from statsmodels.stats.anova import anova_lm\n",
    "from statsmodels.formula.api import ols\n",
    "\n",
    "# import various functions from scipy\n",
    "from scipy import stats\n",
    "from scipy.stats import shapiro\n",
    "from scipy.stats import jarque_bera\n",
    "from scipy.stats import f_oneway\n",
    "\n",
    "# 'metrics' from sklearn is used for evaluating the model performance\n",
    "from sklearn.metrics import mean_absolute_error\n",
    "from sklearn.metrics import mean_squared_error"
   ]
  },
  {
   "cell_type": "markdown",
   "metadata": {},
   "source": [
    "### 1. Write a code to load the dataset and display the first five observations"
   ]
  },
  {
   "cell_type": "code",
   "execution_count": 2,
   "metadata": {},
   "outputs": [
    {
     "data": {
      "text/html": [
       "<div>\n",
       "<style scoped>\n",
       "    .dataframe tbody tr th:only-of-type {\n",
       "        vertical-align: middle;\n",
       "    }\n",
       "\n",
       "    .dataframe tbody tr th {\n",
       "        vertical-align: top;\n",
       "    }\n",
       "\n",
       "    .dataframe thead th {\n",
       "        text-align: right;\n",
       "    }\n",
       "</style>\n",
       "<table border=\"1\" class=\"dataframe\">\n",
       "  <thead>\n",
       "    <tr style=\"text-align: right;\">\n",
       "      <th></th>\n",
       "      <th>Video_id</th>\n",
       "      <th>category_id</th>\n",
       "      <th>channel_title</th>\n",
       "      <th>subscriber</th>\n",
       "      <th>title</th>\n",
       "      <th>tags</th>\n",
       "      <th>description</th>\n",
       "      <th>Trend_day_count</th>\n",
       "      <th>Tag_count</th>\n",
       "      <th>Trend_tag_count</th>\n",
       "      <th>comment_count</th>\n",
       "      <th>comment_disabled</th>\n",
       "      <th>like dislike disabled</th>\n",
       "      <th>likes</th>\n",
       "      <th>dislike</th>\n",
       "      <th>tag appered in title</th>\n",
       "      <th>views</th>\n",
       "      <th>Unnamed: 17</th>\n",
       "      <th>Unnamed: 18</th>\n",
       "    </tr>\n",
       "  </thead>\n",
       "  <tbody>\n",
       "    <tr>\n",
       "      <th>0</th>\n",
       "      <td>HDR9SQc79</td>\n",
       "      <td>22</td>\n",
       "      <td>CaseyNeistat</td>\n",
       "      <td>9086142.000000</td>\n",
       "      <td>WE WANT TO TALK ABOUT OUR MARRIAGE</td>\n",
       "      <td>SHANtell martin</td>\n",
       "      <td>SHANTELL'S CHANNEL - https://www.youtube.com/s...</td>\n",
       "      <td>6.000000</td>\n",
       "      <td>21</td>\n",
       "      <td>6</td>\n",
       "      <td></td>\n",
       "      <td>FALSE</td>\n",
       "      <td>FALSE</td>\n",
       "      <td>13342</td>\n",
       "      <td>6089</td>\n",
       "      <td>False</td>\n",
       "      <td>1978978</td>\n",
       "      <td>NaN</td>\n",
       "      <td>NaN</td>\n",
       "    </tr>\n",
       "    <tr>\n",
       "      <th>1</th>\n",
       "      <td>KNH52UF?48</td>\n",
       "      <td>24</td>\n",
       "      <td>LastWeekTonight</td>\n",
       "      <td>5937292.000000</td>\n",
       "      <td>The Trump Presidency: Last Week Tonight with J...</td>\n",
       "      <td>last week tonight trump presidency|last week t...</td>\n",
       "      <td>One year after the presidential election, John...</td>\n",
       "      <td>1.000000</td>\n",
       "      <td>23</td>\n",
       "      <td>1</td>\n",
       "      <td>116266</td>\n",
       "      <td>TRUE</td>\n",
       "      <td>FALSE</td>\n",
       "      <td>5761</td>\n",
       "      <td>3044</td>\n",
       "      <td>False</td>\n",
       "      <td>1487870</td>\n",
       "      <td>NaN</td>\n",
       "      <td>NaN</td>\n",
       "    </tr>\n",
       "    <tr>\n",
       "      <th>2</th>\n",
       "      <td>QTW28IRG36</td>\n",
       "      <td>23</td>\n",
       "      <td>Rudy Mancuso</td>\n",
       "      <td>4191209.000000</td>\n",
       "      <td>Racist Superman | Rudy Mancuso, King Bach &amp; Le...</td>\n",
       "      <td>racist superman|rudy|mancuso|king|bach|racist|...</td>\n",
       "      <td>WATCH MY PREVIOUS VIDEO ▶ \\n\\nSUBSCRIBE ► http...</td>\n",
       "      <td>10.000000</td>\n",
       "      <td>22</td>\n",
       "      <td>3</td>\n",
       "      <td>257850</td>\n",
       "      <td>TRUE</td>\n",
       "      <td>TRUE</td>\n",
       "      <td>0</td>\n",
       "      <td>0</td>\n",
       "      <td>True</td>\n",
       "      <td>1502102</td>\n",
       "      <td>NaN</td>\n",
       "      <td>NaN</td>\n",
       "    </tr>\n",
       "    <tr>\n",
       "      <th>3</th>\n",
       "      <td>MGL76WI]26</td>\n",
       "      <td>24</td>\n",
       "      <td>Good Mythical Morning</td>\n",
       "      <td>13186408.000000</td>\n",
       "      <td>Nickelback Lyrics: Real or Fake?</td>\n",
       "      <td>rhett and link|gmm|good mythical morning|rhett...</td>\n",
       "      <td>Today we find out if Link is a Nickelback amat...</td>\n",
       "      <td>12.000000</td>\n",
       "      <td>17</td>\n",
       "      <td>5</td>\n",
       "      <td>263939</td>\n",
       "      <td>TRUE</td>\n",
       "      <td>TRUE</td>\n",
       "      <td>0</td>\n",
       "      <td>0</td>\n",
       "      <td>True</td>\n",
       "      <td>3519302</td>\n",
       "      <td>NaN</td>\n",
       "      <td>NaN</td>\n",
       "    </tr>\n",
       "    <tr>\n",
       "      <th>4</th>\n",
       "      <td>TWP93KXT70</td>\n",
       "      <td>24</td>\n",
       "      <td>nigahiga</td>\n",
       "      <td>20563106.000000</td>\n",
       "      <td>I Dare You: GOING BALD!?</td>\n",
       "      <td>ryan|higa|higatv|nigahiga|i dare you|idy|rhpc|...</td>\n",
       "      <td>I know it's been a while since we did this sho...</td>\n",
       "      <td>11.000000</td>\n",
       "      <td>15</td>\n",
       "      <td>7</td>\n",
       "      <td>268085</td>\n",
       "      <td>TRUE</td>\n",
       "      <td>TRUE</td>\n",
       "      <td>0</td>\n",
       "      <td>0</td>\n",
       "      <td>True</td>\n",
       "      <td>4835374</td>\n",
       "      <td>NaN</td>\n",
       "      <td>NaN</td>\n",
       "    </tr>\n",
       "  </tbody>\n",
       "</table>\n",
       "</div>"
      ],
      "text/plain": [
       "     Video_id category_id          channel_title      subscriber  \\\n",
       "0   HDR9SQc79          22           CaseyNeistat  9086142.000000   \n",
       "1  KNH52UF?48          24        LastWeekTonight  5937292.000000   \n",
       "2  QTW28IRG36          23           Rudy Mancuso  4191209.000000   \n",
       "3  MGL76WI]26          24  Good Mythical Morning 13186408.000000   \n",
       "4  TWP93KXT70          24               nigahiga 20563106.000000   \n",
       "\n",
       "                                               title  \\\n",
       "0                 WE WANT TO TALK ABOUT OUR MARRIAGE   \n",
       "1  The Trump Presidency: Last Week Tonight with J...   \n",
       "2  Racist Superman | Rudy Mancuso, King Bach & Le...   \n",
       "3                   Nickelback Lyrics: Real or Fake?   \n",
       "4                           I Dare You: GOING BALD!?   \n",
       "\n",
       "                                                tags  \\\n",
       "0                                    SHANtell martin   \n",
       "1  last week tonight trump presidency|last week t...   \n",
       "2  racist superman|rudy|mancuso|king|bach|racist|...   \n",
       "3  rhett and link|gmm|good mythical morning|rhett...   \n",
       "4  ryan|higa|higatv|nigahiga|i dare you|idy|rhpc|...   \n",
       "\n",
       "                                         description  Trend_day_count  \\\n",
       "0  SHANTELL'S CHANNEL - https://www.youtube.com/s...         6.000000   \n",
       "1  One year after the presidential election, John...         1.000000   \n",
       "2  WATCH MY PREVIOUS VIDEO ▶ \\n\\nSUBSCRIBE ► http...        10.000000   \n",
       "3  Today we find out if Link is a Nickelback amat...        12.000000   \n",
       "4  I know it's been a while since we did this sho...        11.000000   \n",
       "\n",
       "  Tag_count Trend_tag_count comment_count comment_disabled  \\\n",
       "0        21               6                          FALSE   \n",
       "1        23               1        116266             TRUE   \n",
       "2        22               3        257850             TRUE   \n",
       "3        17               5        263939             TRUE   \n",
       "4        15               7        268085             TRUE   \n",
       "\n",
       "  like dislike disabled  likes dislike tag appered in title    views  \\\n",
       "0                 FALSE  13342    6089                False  1978978   \n",
       "1                 FALSE   5761    3044                False  1487870   \n",
       "2                  TRUE      0       0                 True  1502102   \n",
       "3                  TRUE      0       0                 True  3519302   \n",
       "4                  TRUE      0       0                 True  4835374   \n",
       "\n",
       "   Unnamed: 17 Unnamed: 18  \n",
       "0          NaN         NaN  \n",
       "1          NaN         NaN  \n",
       "2          NaN         NaN  \n",
       "3          NaN         NaN  \n",
       "4          NaN         NaN  "
      ]
     },
     "execution_count": 2,
     "metadata": {},
     "output_type": "execute_result"
    }
   ],
   "source": [
    "#load the csv file\n",
    "#store the data in 'youtube_views'\n",
    "youtube_views = pd.read_csv(r\"C:\\Users\\ASUS\\OneDrive\\Desktop\\train.csv\")\n",
    "\n",
    "#display first five observations using head()\n",
    "youtube_views.head()"
   ]
  },
  {
   "cell_type": "markdown",
   "metadata": {},
   "source": [
    "### 2. Write a code to remove unique columns from the respective dataframe and display first 10 observations\n",
    "\n",
    " "
   ]
  },
  {
   "cell_type": "code",
   "execution_count": 3,
   "metadata": {},
   "outputs": [
    {
     "data": {
      "text/html": [
       "<div>\n",
       "<style scoped>\n",
       "    .dataframe tbody tr th:only-of-type {\n",
       "        vertical-align: middle;\n",
       "    }\n",
       "\n",
       "    .dataframe tbody tr th {\n",
       "        vertical-align: top;\n",
       "    }\n",
       "\n",
       "    .dataframe thead th {\n",
       "        text-align: right;\n",
       "    }\n",
       "</style>\n",
       "<table border=\"1\" class=\"dataframe\">\n",
       "  <thead>\n",
       "    <tr style=\"text-align: right;\">\n",
       "      <th></th>\n",
       "      <th>category_id</th>\n",
       "      <th>subscriber</th>\n",
       "      <th>Trend_day_count</th>\n",
       "      <th>Tag_count</th>\n",
       "      <th>Trend_tag_count</th>\n",
       "      <th>comment_count</th>\n",
       "      <th>comment_disabled</th>\n",
       "      <th>like dislike disabled</th>\n",
       "      <th>likes</th>\n",
       "      <th>dislike</th>\n",
       "      <th>tag appered in title</th>\n",
       "      <th>views</th>\n",
       "    </tr>\n",
       "  </thead>\n",
       "  <tbody>\n",
       "    <tr>\n",
       "      <th>0</th>\n",
       "      <td>22</td>\n",
       "      <td>9086142.000000</td>\n",
       "      <td>6.000000</td>\n",
       "      <td>21</td>\n",
       "      <td>6</td>\n",
       "      <td></td>\n",
       "      <td>FALSE</td>\n",
       "      <td>FALSE</td>\n",
       "      <td>13342</td>\n",
       "      <td>6089</td>\n",
       "      <td>False</td>\n",
       "      <td>1978978</td>\n",
       "    </tr>\n",
       "    <tr>\n",
       "      <th>1</th>\n",
       "      <td>24</td>\n",
       "      <td>5937292.000000</td>\n",
       "      <td>1.000000</td>\n",
       "      <td>23</td>\n",
       "      <td>1</td>\n",
       "      <td>116266</td>\n",
       "      <td>TRUE</td>\n",
       "      <td>FALSE</td>\n",
       "      <td>5761</td>\n",
       "      <td>3044</td>\n",
       "      <td>False</td>\n",
       "      <td>1487870</td>\n",
       "    </tr>\n",
       "    <tr>\n",
       "      <th>2</th>\n",
       "      <td>23</td>\n",
       "      <td>4191209.000000</td>\n",
       "      <td>10.000000</td>\n",
       "      <td>22</td>\n",
       "      <td>3</td>\n",
       "      <td>257850</td>\n",
       "      <td>TRUE</td>\n",
       "      <td>TRUE</td>\n",
       "      <td>0</td>\n",
       "      <td>0</td>\n",
       "      <td>True</td>\n",
       "      <td>1502102</td>\n",
       "    </tr>\n",
       "    <tr>\n",
       "      <th>3</th>\n",
       "      <td>24</td>\n",
       "      <td>13186408.000000</td>\n",
       "      <td>12.000000</td>\n",
       "      <td>17</td>\n",
       "      <td>5</td>\n",
       "      <td>263939</td>\n",
       "      <td>TRUE</td>\n",
       "      <td>TRUE</td>\n",
       "      <td>0</td>\n",
       "      <td>0</td>\n",
       "      <td>True</td>\n",
       "      <td>3519302</td>\n",
       "    </tr>\n",
       "    <tr>\n",
       "      <th>4</th>\n",
       "      <td>24</td>\n",
       "      <td>20563106.000000</td>\n",
       "      <td>11.000000</td>\n",
       "      <td>15</td>\n",
       "      <td>7</td>\n",
       "      <td>268085</td>\n",
       "      <td>TRUE</td>\n",
       "      <td>TRUE</td>\n",
       "      <td>0</td>\n",
       "      <td>0</td>\n",
       "      <td>True</td>\n",
       "      <td>4835374</td>\n",
       "    </tr>\n",
       "    <tr>\n",
       "      <th>5</th>\n",
       "      <td>28</td>\n",
       "      <td>4652602.000000</td>\n",
       "      <td>10.000000</td>\n",
       "      <td>9</td>\n",
       "      <td>1</td>\n",
       "      <td>198248</td>\n",
       "      <td>TRUE</td>\n",
       "      <td>FALSE</td>\n",
       "      <td>8619</td>\n",
       "      <td>3697</td>\n",
       "      <td>True</td>\n",
       "      <td>1580238</td>\n",
       "    </tr>\n",
       "    <tr>\n",
       "      <th>6</th>\n",
       "      <td>24</td>\n",
       "      <td>5292034.000000</td>\n",
       "      <td>4.000000</td>\n",
       "      <td>17</td>\n",
       "      <td>5</td>\n",
       "      <td></td>\n",
       "      <td>FALSE</td>\n",
       "      <td>FALSE</td>\n",
       "      <td>9951</td>\n",
       "      <td>937</td>\n",
       "      <td>False</td>\n",
       "      <td>1204461</td>\n",
       "    </tr>\n",
       "    <tr>\n",
       "      <th>7</th>\n",
       "      <td>28</td>\n",
       "      <td>10474796.000000</td>\n",
       "      <td>9.000000</td>\n",
       "      <td>14</td>\n",
       "      <td>7</td>\n",
       "      <td>103280</td>\n",
       "      <td>TRUE</td>\n",
       "      <td>FALSE</td>\n",
       "      <td>18010</td>\n",
       "      <td>11026</td>\n",
       "      <td>True</td>\n",
       "      <td>2542878</td>\n",
       "    </tr>\n",
       "    <tr>\n",
       "      <th>8</th>\n",
       "      <td>1</td>\n",
       "      <td>2453494.000000</td>\n",
       "      <td>8.000000</td>\n",
       "      <td>20</td>\n",
       "      <td>1</td>\n",
       "      <td>214583</td>\n",
       "      <td>TRUE</td>\n",
       "      <td>FALSE</td>\n",
       "      <td>12126</td>\n",
       "      <td>7855</td>\n",
       "      <td>True</td>\n",
       "      <td>1090597</td>\n",
       "    </tr>\n",
       "    <tr>\n",
       "      <th>9</th>\n",
       "      <td>25</td>\n",
       "      <td>3808198.000000</td>\n",
       "      <td>11.000000</td>\n",
       "      <td>8</td>\n",
       "      <td>2</td>\n",
       "      <td>223434</td>\n",
       "      <td>TRUE</td>\n",
       "      <td>TRUE</td>\n",
       "      <td>0</td>\n",
       "      <td>0</td>\n",
       "      <td>True</td>\n",
       "      <td>1407313</td>\n",
       "    </tr>\n",
       "  </tbody>\n",
       "</table>\n",
       "</div>"
      ],
      "text/plain": [
       "  category_id      subscriber  Trend_day_count Tag_count Trend_tag_count  \\\n",
       "0          22  9086142.000000         6.000000        21               6   \n",
       "1          24  5937292.000000         1.000000        23               1   \n",
       "2          23  4191209.000000        10.000000        22               3   \n",
       "3          24 13186408.000000        12.000000        17               5   \n",
       "4          24 20563106.000000        11.000000        15               7   \n",
       "5          28  4652602.000000        10.000000         9               1   \n",
       "6          24  5292034.000000         4.000000        17               5   \n",
       "7          28 10474796.000000         9.000000        14               7   \n",
       "8           1  2453494.000000         8.000000        20               1   \n",
       "9          25  3808198.000000        11.000000         8               2   \n",
       "\n",
       "  comment_count comment_disabled like dislike disabled  likes dislike  \\\n",
       "0                          FALSE                 FALSE  13342    6089   \n",
       "1        116266             TRUE                 FALSE   5761    3044   \n",
       "2        257850             TRUE                  TRUE      0       0   \n",
       "3        263939             TRUE                  TRUE      0       0   \n",
       "4        268085             TRUE                  TRUE      0       0   \n",
       "5        198248             TRUE                 FALSE   8619    3697   \n",
       "6                          FALSE                 FALSE   9951     937   \n",
       "7        103280             TRUE                 FALSE  18010   11026   \n",
       "8        214583             TRUE                 FALSE  12126    7855   \n",
       "9        223434             TRUE                  TRUE      0       0   \n",
       "\n",
       "  tag appered in title    views  \n",
       "0                False  1978978  \n",
       "1                False  1487870  \n",
       "2                 True  1502102  \n",
       "3                 True  3519302  \n",
       "4                 True  4835374  \n",
       "5                 True  1580238  \n",
       "6                False  1204461  \n",
       "7                 True  2542878  \n",
       "8                 True  1090597  \n",
       "9                 True  1407313  "
      ]
     },
     "execution_count": 3,
     "metadata": {},
     "output_type": "execute_result"
    }
   ],
   "source": [
    "#removing all unique columns with the help of drop function.\n",
    "youtube_views.drop(['Video_id', 'channel_title', 'title', 'tags','description' , 'Unnamed: 17','Unnamed: 18'], axis = 1, inplace = True)\n",
    "\n",
    "#displaying first 10 observation\n",
    "youtube_views.head(10)"
   ]
  },
  {
   "cell_type": "markdown",
   "metadata": {},
   "source": [
    "### 3. Write a python code to check the dimension of data.\n",
    "\n",
    "\n"
   ]
  },
  {
   "cell_type": "code",
   "execution_count": 4,
   "metadata": {},
   "outputs": [
    {
     "data": {
      "text/plain": [
       "(3198, 12)"
      ]
     },
     "execution_count": 4,
     "metadata": {},
     "output_type": "execute_result"
    }
   ],
   "source": [
    "youtube_views.shape"
   ]
  },
  {
   "cell_type": "markdown",
   "metadata": {},
   "source": [
    "### 4. Check the summary of the data\n",
    "\n"
   ]
  },
  {
   "cell_type": "code",
   "execution_count": 5,
   "metadata": {},
   "outputs": [
    {
     "name": "stdout",
     "output_type": "stream",
     "text": [
      "<class 'pandas.core.frame.DataFrame'>\n",
      "RangeIndex: 3198 entries, 0 to 3197\n",
      "Data columns (total 12 columns):\n",
      " #   Column                 Non-Null Count  Dtype  \n",
      "---  ------                 --------------  -----  \n",
      " 0   category_id            3192 non-null   object \n",
      " 1   subscriber             3175 non-null   float64\n",
      " 2   Trend_day_count        3197 non-null   float64\n",
      " 3   Tag_count              3197 non-null   object \n",
      " 4   Trend_tag_count        3197 non-null   object \n",
      " 5   comment_count          3198 non-null   object \n",
      " 6   comment_disabled       3198 non-null   object \n",
      " 7   like dislike disabled  3198 non-null   object \n",
      " 8   likes                  3198 non-null   object \n",
      " 9   dislike                3198 non-null   object \n",
      " 10  tag appered in title   3197 non-null   object \n",
      " 11  views                  3198 non-null   object \n",
      "dtypes: float64(2), object(10)\n",
      "memory usage: 299.9+ KB\n"
     ]
    }
   ],
   "source": [
    "youtube_views.info()"
   ]
  },
  {
   "cell_type": "markdown",
   "metadata": {},
   "source": [
    "### 5. Write a  code to check which varibales are numeric in the respective dataframe\n",
    "\n"
   ]
  },
  {
   "cell_type": "code",
   "execution_count": 6,
   "metadata": {},
   "outputs": [
    {
     "data": {
      "text/html": [
       "<div>\n",
       "<style scoped>\n",
       "    .dataframe tbody tr th:only-of-type {\n",
       "        vertical-align: middle;\n",
       "    }\n",
       "\n",
       "    .dataframe tbody tr th {\n",
       "        vertical-align: top;\n",
       "    }\n",
       "\n",
       "    .dataframe thead th {\n",
       "        text-align: right;\n",
       "    }\n",
       "</style>\n",
       "<table border=\"1\" class=\"dataframe\">\n",
       "  <thead>\n",
       "    <tr style=\"text-align: right;\">\n",
       "      <th></th>\n",
       "      <th>subscriber</th>\n",
       "      <th>Trend_day_count</th>\n",
       "    </tr>\n",
       "  </thead>\n",
       "  <tbody>\n",
       "    <tr>\n",
       "      <th>0</th>\n",
       "      <td>9086142.000000</td>\n",
       "      <td>6.000000</td>\n",
       "    </tr>\n",
       "    <tr>\n",
       "      <th>1</th>\n",
       "      <td>5937292.000000</td>\n",
       "      <td>1.000000</td>\n",
       "    </tr>\n",
       "    <tr>\n",
       "      <th>2</th>\n",
       "      <td>4191209.000000</td>\n",
       "      <td>10.000000</td>\n",
       "    </tr>\n",
       "    <tr>\n",
       "      <th>3</th>\n",
       "      <td>13186408.000000</td>\n",
       "      <td>12.000000</td>\n",
       "    </tr>\n",
       "    <tr>\n",
       "      <th>4</th>\n",
       "      <td>20563106.000000</td>\n",
       "      <td>11.000000</td>\n",
       "    </tr>\n",
       "  </tbody>\n",
       "</table>\n",
       "</div>"
      ],
      "text/plain": [
       "       subscriber  Trend_day_count\n",
       "0  9086142.000000         6.000000\n",
       "1  5937292.000000         1.000000\n",
       "2  4191209.000000        10.000000\n",
       "3 13186408.000000        12.000000\n",
       "4 20563106.000000        11.000000"
      ]
     },
     "execution_count": 6,
     "metadata": {},
     "output_type": "execute_result"
    }
   ],
   "source": [
    "#storing all the numeric data in 'df_numeric_features'\n",
    "#select_dtypes() selects the datatype \n",
    "df_numeric_features = youtube_views.select_dtypes(include=[np.number])\n",
    "\n",
    "# display the first five observations\n",
    "df_numeric_features.head()"
   ]
  },
  {
   "cell_type": "markdown",
   "metadata": {},
   "source": [
    "### 6. Write a  code to check which varibales are categorical in the respective dataframe\n"
   ]
  },
  {
   "cell_type": "code",
   "execution_count": 7,
   "metadata": {},
   "outputs": [
    {
     "data": {
      "text/html": [
       "<div>\n",
       "<style scoped>\n",
       "    .dataframe tbody tr th:only-of-type {\n",
       "        vertical-align: middle;\n",
       "    }\n",
       "\n",
       "    .dataframe tbody tr th {\n",
       "        vertical-align: top;\n",
       "    }\n",
       "\n",
       "    .dataframe thead th {\n",
       "        text-align: right;\n",
       "    }\n",
       "</style>\n",
       "<table border=\"1\" class=\"dataframe\">\n",
       "  <thead>\n",
       "    <tr style=\"text-align: right;\">\n",
       "      <th></th>\n",
       "      <th>category_id</th>\n",
       "      <th>Tag_count</th>\n",
       "      <th>Trend_tag_count</th>\n",
       "      <th>comment_count</th>\n",
       "      <th>comment_disabled</th>\n",
       "      <th>like dislike disabled</th>\n",
       "      <th>likes</th>\n",
       "      <th>dislike</th>\n",
       "      <th>tag appered in title</th>\n",
       "      <th>views</th>\n",
       "    </tr>\n",
       "  </thead>\n",
       "  <tbody>\n",
       "    <tr>\n",
       "      <th>0</th>\n",
       "      <td>22</td>\n",
       "      <td>21</td>\n",
       "      <td>6</td>\n",
       "      <td></td>\n",
       "      <td>FALSE</td>\n",
       "      <td>FALSE</td>\n",
       "      <td>13342</td>\n",
       "      <td>6089</td>\n",
       "      <td>False</td>\n",
       "      <td>1978978</td>\n",
       "    </tr>\n",
       "    <tr>\n",
       "      <th>1</th>\n",
       "      <td>24</td>\n",
       "      <td>23</td>\n",
       "      <td>1</td>\n",
       "      <td>116266</td>\n",
       "      <td>TRUE</td>\n",
       "      <td>FALSE</td>\n",
       "      <td>5761</td>\n",
       "      <td>3044</td>\n",
       "      <td>False</td>\n",
       "      <td>1487870</td>\n",
       "    </tr>\n",
       "    <tr>\n",
       "      <th>2</th>\n",
       "      <td>23</td>\n",
       "      <td>22</td>\n",
       "      <td>3</td>\n",
       "      <td>257850</td>\n",
       "      <td>TRUE</td>\n",
       "      <td>TRUE</td>\n",
       "      <td>0</td>\n",
       "      <td>0</td>\n",
       "      <td>True</td>\n",
       "      <td>1502102</td>\n",
       "    </tr>\n",
       "    <tr>\n",
       "      <th>3</th>\n",
       "      <td>24</td>\n",
       "      <td>17</td>\n",
       "      <td>5</td>\n",
       "      <td>263939</td>\n",
       "      <td>TRUE</td>\n",
       "      <td>TRUE</td>\n",
       "      <td>0</td>\n",
       "      <td>0</td>\n",
       "      <td>True</td>\n",
       "      <td>3519302</td>\n",
       "    </tr>\n",
       "    <tr>\n",
       "      <th>4</th>\n",
       "      <td>24</td>\n",
       "      <td>15</td>\n",
       "      <td>7</td>\n",
       "      <td>268085</td>\n",
       "      <td>TRUE</td>\n",
       "      <td>TRUE</td>\n",
       "      <td>0</td>\n",
       "      <td>0</td>\n",
       "      <td>True</td>\n",
       "      <td>4835374</td>\n",
       "    </tr>\n",
       "  </tbody>\n",
       "</table>\n",
       "</div>"
      ],
      "text/plain": [
       "  category_id Tag_count Trend_tag_count comment_count comment_disabled  \\\n",
       "0          22        21               6                          FALSE   \n",
       "1          24        23               1        116266             TRUE   \n",
       "2          23        22               3        257850             TRUE   \n",
       "3          24        17               5        263939             TRUE   \n",
       "4          24        15               7        268085             TRUE   \n",
       "\n",
       "  like dislike disabled  likes dislike tag appered in title    views  \n",
       "0                 FALSE  13342    6089                False  1978978  \n",
       "1                 FALSE   5761    3044                False  1487870  \n",
       "2                  TRUE      0       0                 True  1502102  \n",
       "3                  TRUE      0       0                 True  3519302  \n",
       "4                  TRUE      0       0                 True  4835374  "
      ]
     },
     "execution_count": 7,
     "metadata": {},
     "output_type": "execute_result"
    }
   ],
   "source": [
    "#storing all the numeric data in 'df_categorical_features'\n",
    "#select_dtypes() selects the datatype \n",
    "\n",
    "df_categorical_features = youtube_views.select_dtypes(include=[np.object])\n",
    "\n",
    "# display categorical features\n",
    "df_categorical_features.head()"
   ]
  },
  {
   "cell_type": "markdown",
   "metadata": {},
   "source": [
    "### 7. Write a function to convert following columns 'Tag_count', 'likes', 'dislike', 'views', 'comment_count', 'Trend_tag_count' to numeric."
   ]
  },
  {
   "cell_type": "code",
   "execution_count": 8,
   "metadata": {},
   "outputs": [
    {
     "name": "stdout",
     "output_type": "stream",
     "text": [
      "category_id                 6\n",
      "subscriber                 23\n",
      "Trend_day_count             1\n",
      "Tag_count                   2\n",
      "Trend_tag_count             3\n",
      "comment_count            1015\n",
      "comment_disabled            0\n",
      "like dislike disabled       0\n",
      "likes                       1\n",
      "dislike                     1\n",
      "tag appered in title        1\n",
      "views                       1\n",
      "dtype: int64\n"
     ]
    }
   ],
   "source": [
    "#creating a function 'imputeTrainNull'\n",
    "#pd.to_numeric converts respective column to numeric data\n",
    "\n",
    "def imputeTrainNull(data):    \n",
    "    data.Trend_day_count = pd.to_numeric(data.Trend_day_count, errors='coerce')\n",
    "    data.Tag_count = pd.to_numeric(data.Tag_count, errors='coerce')\n",
    "    data.likes = pd.to_numeric(data.likes, errors='coerce')\n",
    "    data.dislike = pd.to_numeric(data.dislike, errors='coerce')\n",
    "    data.views = pd.to_numeric(data.views, errors='coerce')\n",
    "    data.comment_count = pd.to_numeric(data.comment_count, errors='coerce')\n",
    "    data.Trend_tag_count = pd.to_numeric(data.Trend_tag_count, errors='coerce')\n",
    "    print(data.isnull().sum())\n",
    "\n",
    "#passing the youtube_views to respective function    \n",
    "#calling function    \n",
    "imputeTrainNull(youtube_views)"
   ]
  },
  {
   "cell_type": "markdown",
   "metadata": {},
   "source": [
    "### 8. Check the new count of numeric variables\n",
    "\n",
    "\n"
   ]
  },
  {
   "cell_type": "code",
   "execution_count": 9,
   "metadata": {},
   "outputs": [
    {
     "data": {
      "text/html": [
       "<div>\n",
       "<style scoped>\n",
       "    .dataframe tbody tr th:only-of-type {\n",
       "        vertical-align: middle;\n",
       "    }\n",
       "\n",
       "    .dataframe tbody tr th {\n",
       "        vertical-align: top;\n",
       "    }\n",
       "\n",
       "    .dataframe thead th {\n",
       "        text-align: right;\n",
       "    }\n",
       "</style>\n",
       "<table border=\"1\" class=\"dataframe\">\n",
       "  <thead>\n",
       "    <tr style=\"text-align: right;\">\n",
       "      <th></th>\n",
       "      <th>subscriber</th>\n",
       "      <th>Trend_day_count</th>\n",
       "      <th>Tag_count</th>\n",
       "      <th>Trend_tag_count</th>\n",
       "      <th>comment_count</th>\n",
       "      <th>likes</th>\n",
       "      <th>dislike</th>\n",
       "      <th>views</th>\n",
       "    </tr>\n",
       "  </thead>\n",
       "  <tbody>\n",
       "    <tr>\n",
       "      <th>0</th>\n",
       "      <td>9086142.000000</td>\n",
       "      <td>6.000000</td>\n",
       "      <td>21.000000</td>\n",
       "      <td>6.000000</td>\n",
       "      <td>NaN</td>\n",
       "      <td>13342.000000</td>\n",
       "      <td>6089.000000</td>\n",
       "      <td>1978978.000000</td>\n",
       "    </tr>\n",
       "    <tr>\n",
       "      <th>1</th>\n",
       "      <td>5937292.000000</td>\n",
       "      <td>1.000000</td>\n",
       "      <td>23.000000</td>\n",
       "      <td>1.000000</td>\n",
       "      <td>116266.000000</td>\n",
       "      <td>5761.000000</td>\n",
       "      <td>3044.000000</td>\n",
       "      <td>1487870.000000</td>\n",
       "    </tr>\n",
       "    <tr>\n",
       "      <th>2</th>\n",
       "      <td>4191209.000000</td>\n",
       "      <td>10.000000</td>\n",
       "      <td>22.000000</td>\n",
       "      <td>3.000000</td>\n",
       "      <td>257850.000000</td>\n",
       "      <td>0.000000</td>\n",
       "      <td>0.000000</td>\n",
       "      <td>1502102.000000</td>\n",
       "    </tr>\n",
       "    <tr>\n",
       "      <th>3</th>\n",
       "      <td>13186408.000000</td>\n",
       "      <td>12.000000</td>\n",
       "      <td>17.000000</td>\n",
       "      <td>5.000000</td>\n",
       "      <td>263939.000000</td>\n",
       "      <td>0.000000</td>\n",
       "      <td>0.000000</td>\n",
       "      <td>3519302.000000</td>\n",
       "    </tr>\n",
       "    <tr>\n",
       "      <th>4</th>\n",
       "      <td>20563106.000000</td>\n",
       "      <td>11.000000</td>\n",
       "      <td>15.000000</td>\n",
       "      <td>7.000000</td>\n",
       "      <td>268085.000000</td>\n",
       "      <td>0.000000</td>\n",
       "      <td>0.000000</td>\n",
       "      <td>4835374.000000</td>\n",
       "    </tr>\n",
       "  </tbody>\n",
       "</table>\n",
       "</div>"
      ],
      "text/plain": [
       "       subscriber  Trend_day_count  Tag_count  Trend_tag_count  comment_count  \\\n",
       "0  9086142.000000         6.000000  21.000000         6.000000            NaN   \n",
       "1  5937292.000000         1.000000  23.000000         1.000000  116266.000000   \n",
       "2  4191209.000000        10.000000  22.000000         3.000000  257850.000000   \n",
       "3 13186408.000000        12.000000  17.000000         5.000000  263939.000000   \n",
       "4 20563106.000000        11.000000  15.000000         7.000000  268085.000000   \n",
       "\n",
       "         likes     dislike          views  \n",
       "0 13342.000000 6089.000000 1978978.000000  \n",
       "1  5761.000000 3044.000000 1487870.000000  \n",
       "2     0.000000    0.000000 1502102.000000  \n",
       "3     0.000000    0.000000 3519302.000000  \n",
       "4     0.000000    0.000000 4835374.000000  "
      ]
     },
     "execution_count": 9,
     "metadata": {},
     "output_type": "execute_result"
    }
   ],
   "source": [
    "#storing all the numeric data in 'df_numeric_features'\n",
    "#select_dtypes() selects the datatype \n",
    "#checking the new count after conversion\n",
    "\n",
    "df_numeric_features =  youtube_views.select_dtypes(include=[np.number])\n",
    "\n",
    "df_numeric_features.head()\n",
    "#df_categorical_features\n"
   ]
  },
  {
   "cell_type": "markdown",
   "metadata": {},
   "source": [
    "### 9. Check the new count of categorical variables\n",
    "\n",
    "\n"
   ]
  },
  {
   "cell_type": "code",
   "execution_count": 10,
   "metadata": {},
   "outputs": [
    {
     "data": {
      "text/html": [
       "<div>\n",
       "<style scoped>\n",
       "    .dataframe tbody tr th:only-of-type {\n",
       "        vertical-align: middle;\n",
       "    }\n",
       "\n",
       "    .dataframe tbody tr th {\n",
       "        vertical-align: top;\n",
       "    }\n",
       "\n",
       "    .dataframe thead th {\n",
       "        text-align: right;\n",
       "    }\n",
       "</style>\n",
       "<table border=\"1\" class=\"dataframe\">\n",
       "  <thead>\n",
       "    <tr style=\"text-align: right;\">\n",
       "      <th></th>\n",
       "      <th>category_id</th>\n",
       "      <th>comment_disabled</th>\n",
       "      <th>like dislike disabled</th>\n",
       "      <th>tag appered in title</th>\n",
       "    </tr>\n",
       "  </thead>\n",
       "  <tbody>\n",
       "    <tr>\n",
       "      <th>0</th>\n",
       "      <td>22</td>\n",
       "      <td>FALSE</td>\n",
       "      <td>FALSE</td>\n",
       "      <td>False</td>\n",
       "    </tr>\n",
       "    <tr>\n",
       "      <th>1</th>\n",
       "      <td>24</td>\n",
       "      <td>TRUE</td>\n",
       "      <td>FALSE</td>\n",
       "      <td>False</td>\n",
       "    </tr>\n",
       "    <tr>\n",
       "      <th>2</th>\n",
       "      <td>23</td>\n",
       "      <td>TRUE</td>\n",
       "      <td>TRUE</td>\n",
       "      <td>True</td>\n",
       "    </tr>\n",
       "    <tr>\n",
       "      <th>3</th>\n",
       "      <td>24</td>\n",
       "      <td>TRUE</td>\n",
       "      <td>TRUE</td>\n",
       "      <td>True</td>\n",
       "    </tr>\n",
       "    <tr>\n",
       "      <th>4</th>\n",
       "      <td>24</td>\n",
       "      <td>TRUE</td>\n",
       "      <td>TRUE</td>\n",
       "      <td>True</td>\n",
       "    </tr>\n",
       "  </tbody>\n",
       "</table>\n",
       "</div>"
      ],
      "text/plain": [
       "  category_id comment_disabled like dislike disabled tag appered in title\n",
       "0          22            FALSE                 FALSE                False\n",
       "1          24             TRUE                 FALSE                False\n",
       "2          23             TRUE                  TRUE                 True\n",
       "3          24             TRUE                  TRUE                 True\n",
       "4          24             TRUE                  TRUE                 True"
      ]
     },
     "execution_count": 10,
     "metadata": {},
     "output_type": "execute_result"
    }
   ],
   "source": [
    "#storing all the numeric data in 'df_categorical_features'\n",
    "#select_dtypes() selects the datatype \n",
    "#checking the new count after conversion\n",
    "\n",
    "df_categorical_features = youtube_views.select_dtypes(include=[np.object])\n",
    "\n",
    "# display categorical features\n",
    "df_categorical_features.head()"
   ]
  },
  {
   "cell_type": "markdown",
   "metadata": {},
   "source": [
    "### 10. With the help of boxplot see which variables have highest outliers. Title should be 'Boxplot of numeric varibales'\n",
    "\n",
    "\n"
   ]
  },
  {
   "cell_type": "code",
   "execution_count": 11,
   "metadata": {},
   "outputs": [
    {
     "data": {
      "image/png": "[encoded data removed]",
      "text/plain": [
       "<Figure size 1200x700 with 1 Axes>"
      ]
     },
     "metadata": {},
     "output_type": "display_data"
    }
   ],
   "source": [
    "#set the plot size using figure() \n",
    "plt.figure(figsize = (12,7))\n",
    "\n",
    "# plot a boxplot to visualize the outliers\n",
    "df_numeric_features.boxplot()\n",
    "\n",
    "#set the title\n",
    "plt.title('Boxplot of numeric variables', fontsize = 13)\n",
    "\n",
    "# xticks(ticks) gives the x-axis tick values\n",
    "plt.xticks(rotation = 'vertical', fontsize = 13)\n",
    "\n",
    "# display the plot\n",
    "plt.show()"
   ]
  },
  {
   "cell_type": "markdown",
   "metadata": {},
   "source": [
    "### 11. Write a function to replace NA values with preceding values for following column 'comment_disabled', 'like dislike disabled', 'category_id', 'tag appered in title'"
   ]
  },
  {
   "cell_type": "code",
   "execution_count": 12,
   "metadata": {},
   "outputs": [
    {
     "name": "stdout",
     "output_type": "stream",
     "text": [
      "category_id                 0\n",
      "subscriber                 23\n",
      "Trend_day_count             1\n",
      "Tag_count                   2\n",
      "Trend_tag_count             3\n",
      "comment_count            1015\n",
      "comment_disabled            0\n",
      "like dislike disabled       0\n",
      "likes                       1\n",
      "dislike                     1\n",
      "tag appered in title        0\n",
      "views                       1\n",
      "dtype: int64\n"
     ]
    }
   ],
   "source": [
    "#creating a function 'imputepreceding_values' to fill with na values\n",
    "#fillna method fills all the missing values with preceding value\n",
    "def imputepreceding_values(data):\n",
    "    \n",
    "    data.comment_disabled.fillna(method ='ffill', inplace=True)\n",
    "    data['like dislike disabled'].fillna(method ='ffill', inplace=True)\n",
    "    data.category_id.fillna(method ='ffill', inplace=True)\n",
    "    data['tag appered in title'].fillna(method ='ffill', inplace=True)\n",
    "    print(data.isnull().sum())\n",
    "    \n",
    "#calling a function\n",
    "#passing the dataset (youtube_views)\n",
    "imputepreceding_values(youtube_views)"
   ]
  },
  {
   "cell_type": "markdown",
   "metadata": {},
   "source": [
    "### 12. Write a function to replace NA values with median for following column 'Trend_day_count', 'Tag_count', 'Trend_tag_count', 'comment_count', 'likes', 'dislike', 'views', 'subscriber'"
   ]
  },
  {
   "cell_type": "code",
   "execution_count": 13,
   "metadata": {},
   "outputs": [
    {
     "name": "stdout",
     "output_type": "stream",
     "text": [
      "category_id              0\n",
      "subscriber               0\n",
      "Trend_day_count          0\n",
      "Tag_count                0\n",
      "Trend_tag_count          0\n",
      "comment_count            0\n",
      "comment_disabled         0\n",
      "like dislike disabled    0\n",
      "likes                    0\n",
      "dislike                  0\n",
      "tag appered in title     0\n",
      "views                    0\n",
      "dtype: int64\n"
     ]
    }
   ],
   "source": [
    "#creating a function 'impute_median_values'\n",
    "#fillna method fills all the missing values with preceding value\n",
    "\n",
    "def impute_median_values(data):\n",
    "    data.Trend_day_count.fillna(data.Trend_day_count.median(), inplace=True)\n",
    "    data.Tag_count.fillna(data.Tag_count.median(), inplace=True)\n",
    "    data.Trend_tag_count.fillna(data.Trend_tag_count.median(), inplace=True)\n",
    "    data.comment_count.fillna(data.comment_count.median(), inplace=True)\n",
    "    data.likes.fillna(data.likes.median(), inplace=True)\n",
    "    data.dislike.fillna(data.dislike.median(), inplace=True)\n",
    "    data.views.fillna(data.views.median(), inplace=True)\n",
    "    data.subscriber.fillna(data.subscriber.median(), inplace=True) \n",
    "    print(data.isnull().sum())\n",
    "\n",
    "#calling a 'function\n",
    "impute_median_values(youtube_views)"
   ]
  },
  {
   "cell_type": "markdown",
   "metadata": {},
   "source": [
    "### 13. Write a function to treat ouliers (use z-score) also check the skewness of the data"
   ]
  },
  {
   "cell_type": "code",
   "execution_count": 14,
   "metadata": {},
   "outputs": [
    {
     "name": "stdout",
     "output_type": "stream",
     "text": [
      "subscriber        52.424693\n",
      "Trend_day_count   56.386890\n",
      "Tag_count         39.715994\n",
      "Trend_tag_count   56.539992\n",
      "comment_count     -0.001841\n",
      "likes             48.558249\n",
      "dislike            0.242662\n",
      "views             42.624127\n",
      "dtype: float64\n"
     ]
    }
   ],
   "source": [
    "def handleOutliers(data):\n",
    "     #include all numeric data\n",
    "    df_num = data.select_dtypes(include=['int64','float64' ])\n",
    "    \n",
    "    # #calculating z-score by passing all numeric varibale\n",
    "    z = np.abs(stats.zscore(df_num))\n",
    "    \n",
    "    #threshold = 3\n",
    "    x= np.where(z > 3)\n",
    "    \n",
    "    #droping the variables \n",
    "    data.drop(data.index[x[:1]], inplace=True)\n",
    "    \n",
    "    #printing the skewness of each variable\n",
    "    print(df_num.skew())\n",
    "    \n",
    "\n",
    "#calling the function\n",
    "handleOutliers(youtube_views)"
   ]
  },
  {
   "cell_type": "markdown",
   "metadata": {},
   "source": [
    "### 14. Write a code to reset all the new values that are changed by outliers"
   ]
  },
  {
   "cell_type": "code",
   "execution_count": 15,
   "metadata": {},
   "outputs": [],
   "source": [
    "#reset_index allows you to reset all the values\n",
    "youtube_views = youtube_views.reset_index(drop = True)"
   ]
  },
  {
   "cell_type": "code",
   "execution_count": 16,
   "metadata": {},
   "outputs": [],
   "source": [
    "# Random le giving numbers\n",
    "from sklearn.preprocessing import LabelEncoder \n",
    "le=LabelEncoder()\n",
    "\n",
    "youtube_views[youtube_views.select_dtypes(include='object').columns]=youtube_views[youtube_views.select_dtypes\n",
    "    (include='object').columns].apply(le.fit_transform)"
   ]
  },
  {
   "cell_type": "markdown",
   "metadata": {},
   "source": [
    "### 15. Use cube root tranformation to treat skewness of columns 'views' and 'subscriber' and again check the skewness"
   ]
  },
  {
   "cell_type": "code",
   "execution_count": 17,
   "metadata": {},
   "outputs": [],
   "source": [
    "youtube_views.views = ((youtube_views.views) ** (1/3))\n",
    "youtube_views.subscriber = ((youtube_views.subscriber) ** (1/3))"
   ]
  },
  {
   "cell_type": "code",
   "execution_count": 18,
   "metadata": {},
   "outputs": [
    {
     "data": {
      "text/plain": [
       "category_id             -0.555701\n",
       "subscriber               0.429171\n",
       "Trend_day_count         -0.035211\n",
       "Tag_count               -0.020947\n",
       "Trend_tag_count         -0.008223\n",
       "comment_count           -0.001994\n",
       "comment_disabled        -0.790436\n",
       "like dislike disabled    1.066482\n",
       "likes                   -0.062985\n",
       "dislike                  0.240400\n",
       "tag appered in title    -0.676695\n",
       "views                    0.784550\n",
       "dtype: float64"
      ]
     },
     "execution_count": 18,
     "metadata": {},
     "output_type": "execute_result"
    }
   ],
   "source": [
    "youtube_views.skew()"
   ]
  },
  {
   "cell_type": "markdown",
   "metadata": {},
   "source": [
    "### 16. Write a python code to detect missing values and store it in 'Total' variable and display it in descending order"
   ]
  },
  {
   "cell_type": "code",
   "execution_count": 19,
   "metadata": {},
   "outputs": [
    {
     "data": {
      "text/plain": [
       "category_id              0\n",
       "subscriber               0\n",
       "Trend_day_count          0\n",
       "Tag_count                0\n",
       "Trend_tag_count          0\n",
       "comment_count            0\n",
       "comment_disabled         0\n",
       "like dislike disabled    0\n",
       "likes                    0\n",
       "dislike                  0\n",
       "tag appered in title     0\n",
       "views                    0\n",
       "dtype: int64"
      ]
     },
     "execution_count": 19,
     "metadata": {},
     "output_type": "execute_result"
    }
   ],
   "source": [
    "#isnull().sum() returns the number of missing values in each variable\n",
    "#ascending = False sorts values in the descending order\n",
    "Total = youtube_views.isnull().sum().sort_values(ascending=False) \n",
    "Total"
   ]
  },
  {
   "cell_type": "markdown",
   "metadata": {},
   "source": [
    "### 17. Display the missing values in the form of percentage in descending manner"
   ]
  },
  {
   "cell_type": "code",
   "execution_count": 20,
   "metadata": {},
   "outputs": [
    {
     "data": {
      "text/html": [
       "<div>\n",
       "<style scoped>\n",
       "    .dataframe tbody tr th:only-of-type {\n",
       "        vertical-align: middle;\n",
       "    }\n",
       "\n",
       "    .dataframe tbody tr th {\n",
       "        vertical-align: top;\n",
       "    }\n",
       "\n",
       "    .dataframe thead th {\n",
       "        text-align: right;\n",
       "    }\n",
       "</style>\n",
       "<table border=\"1\" class=\"dataframe\">\n",
       "  <thead>\n",
       "    <tr style=\"text-align: right;\">\n",
       "      <th></th>\n",
       "      <th>Total</th>\n",
       "      <th>Percentage of Missing Values</th>\n",
       "    </tr>\n",
       "  </thead>\n",
       "  <tbody>\n",
       "    <tr>\n",
       "      <th>category_id</th>\n",
       "      <td>0</td>\n",
       "      <td>0.000000</td>\n",
       "    </tr>\n",
       "    <tr>\n",
       "      <th>subscriber</th>\n",
       "      <td>0</td>\n",
       "      <td>0.000000</td>\n",
       "    </tr>\n",
       "    <tr>\n",
       "      <th>Trend_day_count</th>\n",
       "      <td>0</td>\n",
       "      <td>0.000000</td>\n",
       "    </tr>\n",
       "    <tr>\n",
       "      <th>Tag_count</th>\n",
       "      <td>0</td>\n",
       "      <td>0.000000</td>\n",
       "    </tr>\n",
       "    <tr>\n",
       "      <th>Trend_tag_count</th>\n",
       "      <td>0</td>\n",
       "      <td>0.000000</td>\n",
       "    </tr>\n",
       "    <tr>\n",
       "      <th>comment_count</th>\n",
       "      <td>0</td>\n",
       "      <td>0.000000</td>\n",
       "    </tr>\n",
       "    <tr>\n",
       "      <th>comment_disabled</th>\n",
       "      <td>0</td>\n",
       "      <td>0.000000</td>\n",
       "    </tr>\n",
       "    <tr>\n",
       "      <th>like dislike disabled</th>\n",
       "      <td>0</td>\n",
       "      <td>0.000000</td>\n",
       "    </tr>\n",
       "    <tr>\n",
       "      <th>likes</th>\n",
       "      <td>0</td>\n",
       "      <td>0.000000</td>\n",
       "    </tr>\n",
       "    <tr>\n",
       "      <th>dislike</th>\n",
       "      <td>0</td>\n",
       "      <td>0.000000</td>\n",
       "    </tr>\n",
       "    <tr>\n",
       "      <th>tag appered in title</th>\n",
       "      <td>0</td>\n",
       "      <td>0.000000</td>\n",
       "    </tr>\n",
       "    <tr>\n",
       "      <th>views</th>\n",
       "      <td>0</td>\n",
       "      <td>0.000000</td>\n",
       "    </tr>\n",
       "  </tbody>\n",
       "</table>\n",
       "</div>"
      ],
      "text/plain": [
       "                       Total  Percentage of Missing Values\n",
       "category_id                0                      0.000000\n",
       "subscriber                 0                      0.000000\n",
       "Trend_day_count            0                      0.000000\n",
       "Tag_count                  0                      0.000000\n",
       "Trend_tag_count            0                      0.000000\n",
       "comment_count              0                      0.000000\n",
       "comment_disabled           0                      0.000000\n",
       "like dislike disabled      0                      0.000000\n",
       "likes                      0                      0.000000\n",
       "dislike                    0                      0.000000\n",
       "tag appered in title       0                      0.000000\n",
       "views                      0                      0.000000"
      ]
     },
     "execution_count": 20,
     "metadata": {},
     "output_type": "execute_result"
    }
   ],
   "source": [
    "#ascending = False sorts the values in the descending order\n",
    "Percentage = (youtube_views.isnull().sum()*100/youtube_views.isnull().count()).sort_values(ascending=False)   \n",
    "\n",
    "#concat the 'Total' and 'Percentage' columns using concat()\n",
    "missing_data = pd.concat([Total, Percentage], axis=1, keys=['Total', 'Percentage of Missing Values'])    \n",
    "missing_data"
   ]
  },
  {
   "cell_type": "markdown",
   "metadata": {},
   "source": [
    "### 18. Write a code to convert following columns 'tag appered in title' and 'category_id' into 'object' data type "
   ]
  },
  {
   "cell_type": "code",
   "execution_count": 21,
   "metadata": {},
   "outputs": [],
   "source": [
    "#convert 'tag appered in title' into datatype object\n",
    "youtube_views['tag appered in title'] = youtube_views['tag appered in title'].astype('object')\n",
    "\n",
    "#convert 'category_id' into datatype object\n",
    "youtube_views['category_id'] = youtube_views['category_id'].astype('object')"
   ]
  },
  {
   "cell_type": "markdown",
   "metadata": {},
   "source": [
    "### 19. Write a code to convert following columns 'comment_disabled' and 'like dislike disabled' into 'string' data type "
   ]
  },
  {
   "cell_type": "code",
   "execution_count": 22,
   "metadata": {},
   "outputs": [],
   "source": [
    "#convert 'comment_disabled' into datatype string\n",
    "youtube_views['comment_disabled'] = youtube_views['comment_disabled'].astype('str')\n",
    "\n",
    "#convert 'like dislike disable' into datatype string\n",
    "youtube_views['like dislike disabled'] = youtube_views['like dislike disabled'].astype('str')\n"
   ]
  },
  {
   "cell_type": "markdown",
   "metadata": {},
   "source": [
    "### 20. Write a code to convert following columns 'comment_disabled' and 'like dislike disabled' into lower case"
   ]
  },
  {
   "cell_type": "code",
   "execution_count": 23,
   "metadata": {},
   "outputs": [],
   "source": [
    "#Converting comment_disabled into lowercase\n",
    "youtube_views.comment_disabled = youtube_views.comment_disabled.str.lower()\n",
    "\n",
    "#Converting like dislike disabled into lowercase\n",
    "youtube_views['like dislike disabled'] = youtube_views['like dislike disabled'].str.lower() "
   ]
  },
  {
   "cell_type": "markdown",
   "metadata": {},
   "source": [
    "### 21. Extract all the numeric variables and store those variables in 'df_numeric_features' and display first five observation"
   ]
  },
  {
   "cell_type": "code",
   "execution_count": 24,
   "metadata": {},
   "outputs": [
    {
     "data": {
      "text/html": [
       "<div>\n",
       "<style scoped>\n",
       "    .dataframe tbody tr th:only-of-type {\n",
       "        vertical-align: middle;\n",
       "    }\n",
       "\n",
       "    .dataframe tbody tr th {\n",
       "        vertical-align: top;\n",
       "    }\n",
       "\n",
       "    .dataframe thead th {\n",
       "        text-align: right;\n",
       "    }\n",
       "</style>\n",
       "<table border=\"1\" class=\"dataframe\">\n",
       "  <thead>\n",
       "    <tr style=\"text-align: right;\">\n",
       "      <th></th>\n",
       "      <th>subscriber</th>\n",
       "      <th>Trend_day_count</th>\n",
       "      <th>Tag_count</th>\n",
       "      <th>Trend_tag_count</th>\n",
       "      <th>comment_count</th>\n",
       "      <th>likes</th>\n",
       "      <th>dislike</th>\n",
       "      <th>views</th>\n",
       "    </tr>\n",
       "  </thead>\n",
       "  <tbody>\n",
       "    <tr>\n",
       "      <th>0</th>\n",
       "      <td>208.669915</td>\n",
       "      <td>6.000000</td>\n",
       "      <td>21.000000</td>\n",
       "      <td>6.000000</td>\n",
       "      <td>163785.000000</td>\n",
       "      <td>13342.000000</td>\n",
       "      <td>6089.000000</td>\n",
       "      <td>125.549115</td>\n",
       "    </tr>\n",
       "    <tr>\n",
       "      <th>1</th>\n",
       "      <td>181.076797</td>\n",
       "      <td>1.000000</td>\n",
       "      <td>23.000000</td>\n",
       "      <td>1.000000</td>\n",
       "      <td>116266.000000</td>\n",
       "      <td>5761.000000</td>\n",
       "      <td>3044.000000</td>\n",
       "      <td>114.162025</td>\n",
       "    </tr>\n",
       "    <tr>\n",
       "      <th>2</th>\n",
       "      <td>161.230217</td>\n",
       "      <td>10.000000</td>\n",
       "      <td>22.000000</td>\n",
       "      <td>3.000000</td>\n",
       "      <td>257850.000000</td>\n",
       "      <td>0.000000</td>\n",
       "      <td>0.000000</td>\n",
       "      <td>114.524870</td>\n",
       "    </tr>\n",
       "    <tr>\n",
       "      <th>3</th>\n",
       "      <td>236.252005</td>\n",
       "      <td>12.000000</td>\n",
       "      <td>17.000000</td>\n",
       "      <td>5.000000</td>\n",
       "      <td>263939.000000</td>\n",
       "      <td>0.000000</td>\n",
       "      <td>0.000000</td>\n",
       "      <td>152.108043</td>\n",
       "    </tr>\n",
       "    <tr>\n",
       "      <th>4</th>\n",
       "      <td>273.965728</td>\n",
       "      <td>11.000000</td>\n",
       "      <td>15.000000</td>\n",
       "      <td>7.000000</td>\n",
       "      <td>268085.000000</td>\n",
       "      <td>0.000000</td>\n",
       "      <td>0.000000</td>\n",
       "      <td>169.099902</td>\n",
       "    </tr>\n",
       "  </tbody>\n",
       "</table>\n",
       "</div>"
      ],
      "text/plain": [
       "   subscriber  Trend_day_count  Tag_count  Trend_tag_count  comment_count  \\\n",
       "0  208.669915         6.000000  21.000000         6.000000  163785.000000   \n",
       "1  181.076797         1.000000  23.000000         1.000000  116266.000000   \n",
       "2  161.230217        10.000000  22.000000         3.000000  257850.000000   \n",
       "3  236.252005        12.000000  17.000000         5.000000  263939.000000   \n",
       "4  273.965728        11.000000  15.000000         7.000000  268085.000000   \n",
       "\n",
       "         likes     dislike      views  \n",
       "0 13342.000000 6089.000000 125.549115  \n",
       "1  5761.000000 3044.000000 114.162025  \n",
       "2     0.000000    0.000000 114.524870  \n",
       "3     0.000000    0.000000 152.108043  \n",
       "4     0.000000    0.000000 169.099902  "
      ]
     },
     "execution_count": 24,
     "metadata": {},
     "output_type": "execute_result"
    }
   ],
   "source": [
    "# filter the numerical features in the dataset\n",
    "df_numeric_features = youtube_views.select_dtypes(include=[np.number])\n",
    "\n",
    "# display the first five observations\n",
    "df_numeric_features.head()"
   ]
  },
  {
   "cell_type": "markdown",
   "metadata": {},
   "source": [
    "### 22. Extract all the categorical variables and see the change"
   ]
  },
  {
   "cell_type": "code",
   "execution_count": 25,
   "metadata": {},
   "outputs": [
    {
     "data": {
      "text/html": [
       "<div>\n",
       "<style scoped>\n",
       "    .dataframe tbody tr th:only-of-type {\n",
       "        vertical-align: middle;\n",
       "    }\n",
       "\n",
       "    .dataframe tbody tr th {\n",
       "        vertical-align: top;\n",
       "    }\n",
       "\n",
       "    .dataframe thead th {\n",
       "        text-align: right;\n",
       "    }\n",
       "</style>\n",
       "<table border=\"1\" class=\"dataframe\">\n",
       "  <thead>\n",
       "    <tr style=\"text-align: right;\">\n",
       "      <th></th>\n",
       "      <th>category_id</th>\n",
       "      <th>comment_disabled</th>\n",
       "      <th>like dislike disabled</th>\n",
       "      <th>tag appered in title</th>\n",
       "    </tr>\n",
       "  </thead>\n",
       "  <tbody>\n",
       "    <tr>\n",
       "      <th>0</th>\n",
       "      <td>7</td>\n",
       "      <td>1</td>\n",
       "      <td>1</td>\n",
       "      <td>False</td>\n",
       "    </tr>\n",
       "    <tr>\n",
       "      <th>1</th>\n",
       "      <td>9</td>\n",
       "      <td>2</td>\n",
       "      <td>1</td>\n",
       "      <td>False</td>\n",
       "    </tr>\n",
       "    <tr>\n",
       "      <th>2</th>\n",
       "      <td>8</td>\n",
       "      <td>2</td>\n",
       "      <td>2</td>\n",
       "      <td>True</td>\n",
       "    </tr>\n",
       "    <tr>\n",
       "      <th>3</th>\n",
       "      <td>9</td>\n",
       "      <td>2</td>\n",
       "      <td>2</td>\n",
       "      <td>True</td>\n",
       "    </tr>\n",
       "    <tr>\n",
       "      <th>4</th>\n",
       "      <td>9</td>\n",
       "      <td>2</td>\n",
       "      <td>2</td>\n",
       "      <td>True</td>\n",
       "    </tr>\n",
       "  </tbody>\n",
       "</table>\n",
       "</div>"
      ],
      "text/plain": [
       "  category_id comment_disabled like dislike disabled tag appered in title\n",
       "0           7                1                     1                False\n",
       "1           9                2                     1                False\n",
       "2           8                2                     2                 True\n",
       "3           9                2                     2                 True\n",
       "4           9                2                     2                 True"
      ]
     },
     "execution_count": 25,
     "metadata": {},
     "output_type": "execute_result"
    }
   ],
   "source": [
    "# filter the numerical features in the dataset\n",
    "df_categorial_features = youtube_views.select_dtypes(include=[np.object])\n",
    "\n",
    "# display the first five observations\n",
    "df_categorial_features.head()"
   ]
  },
  {
   "cell_type": "markdown",
   "metadata": {},
   "source": [
    "### 23. Write a python program to plot heatmap to check correlation between independent variables"
   ]
  },
  {
   "cell_type": "code",
   "execution_count": 26,
   "metadata": {},
   "outputs": [
    {
     "data": {
      "image/png": "[encoded data removed]",
      "text/plain": [
       "<Figure size 2000x1000 with 2 Axes>"
      ]
     },
     "metadata": {},
     "output_type": "display_data"
    }
   ],
   "source": [
    "# set the plot size using figure()\n",
    "# pass width and height in inches to 'figsize' \n",
    "plt.figure(figsize = (20,10))\n",
    "\n",
    "# plot the heat map\n",
    "# corr(): give the correlation matrix\n",
    "sns.heatmap(df_numeric_features.corr(), annot = True, annot_kws = {\"size\": 11})\n",
    "\n",
    "# rotation = 'horizontal' rotates the y-axis labels horizontally\n",
    "# set text size using 'fontsize'\n",
    "plt.yticks(rotation = 'horizontal', fontsize = 15)\n",
    "plt.xticks(fontsize = 15)\n",
    "\n",
    "# display the plot\n",
    "plt.show()"
   ]
  },
  {
   "cell_type": "markdown",
   "metadata": {},
   "source": [
    "### 40. Plot a  heatmap to identify the variables with a correlation greater than 0.6 and less than -0.6"
   ]
  },
  {
   "cell_type": "code",
   "execution_count": 27,
   "metadata": {},
   "outputs": [
    {
     "data": {
      "image/png": "[encoded data removed]",
      "text/plain": [
       "<Figure size 2000x1000 with 2 Axes>"
      ]
     },
     "metadata": {},
     "output_type": "display_data"
    }
   ],
   "source": [
    "# pass width and height in inches to 'figsize' \n",
    "plt.figure(figsize = (20,10))\n",
    "\n",
    "# plot the heat map\n",
    "# corr(): give the correlation matrix\n",
    "\n",
    "sns.heatmap(df_numeric_features.corr()[np.abs(youtube_views.corr()) > 0.6], annot = True, annot_kws = {\"size\": 11})\n",
    "\n",
    "# rotate the y-axis labels\n",
    "# set text size using 'fontsize'\n",
    "plt.yticks(rotation = 'horizontal', fontsize = 15)\n",
    "plt.xticks(fontsize = 15)\n",
    "\n",
    "# display the plot\n",
    "plt.show()"
   ]
  },
  {
   "cell_type": "markdown",
   "metadata": {},
   "source": [
    "<center> <img src=\"https://img.freepik.com/free-vector/thank-you-placard-concept-illustration_114360-13436.jpg?w=2000\" style='width: 500px; height: 300px;'>"
   ]
  },
  {
   "cell_type": "code",
   "execution_count": null,
   "metadata": {},
   "outputs": [],
   "source": []
  }
 ],
 "metadata": {
  "kernelspec": {
   "display_name": "Python 3 (ipykernel)",
   "language": "python",
   "name": "python3"
  },
  "language_info": {
   "codemirror_mode": {
    "name": "ipython",
    "version": 3
   },
   "file_extension": ".py",
   "mimetype": "text/x-python",
   "name": "python",
   "nbconvert_exporter": "python",
   "pygments_lexer": "ipython3",
   "version": "3.11.5"
  }
 },
 "nbformat": 4,
 "nbformat_minor": 4
}
